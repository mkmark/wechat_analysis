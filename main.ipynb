{
 "cells": [
  {
   "cell_type": "code",
   "execution_count": null,
   "metadata": {},
   "outputs": [],
   "source": [
    "BASE_PATH = \"C:/Users/Mark/repos/WeChatUserDB/DECRYPT_WIN_WECHAT_DB/\""
   ]
  },
  {
   "cell_type": "code",
   "execution_count": null,
   "metadata": {},
   "outputs": [],
   "source": [
    "import sqlite3\n",
    "import numpy as np\n",
    "import glob"
   ]
  },
  {
   "cell_type": "code",
   "execution_count": null,
   "metadata": {},
   "outputs": [],
   "source": [
    "# get msgs\n",
    "con_msg = sqlite3.connect(BASE_PATH + \"decrypt_ChatMsg.db\")\n",
    "cur_msg = con_msg.cursor()\n",
    "msgs = cur_msg.execute(\n",
    "    \"SELECT StrTalker, IsSender, Type, StrContent FROM ChatCRMsg\"\n",
    ").fetchall()\n",
    "columns_msg = cur_msg.execute(\"PRAGMA table_info(ChatCRMsg)\").fetchall()\n",
    "\n",
    "for f in glob.glob(BASE_PATH + \"decrypt_MSG*\"):\n",
    "    con_msg = sqlite3.connect(f)\n",
    "    cur_msg = con_msg.cursor()\n",
    "    msgs += cur_msg.execute(\n",
    "        \"SELECT StrTalker, IsSender, Type, StrContent FROM MSG\"\n",
    "    ).fetchall()\n"
   ]
  },
  {
   "cell_type": "code",
   "execution_count": null,
   "metadata": {},
   "outputs": [],
   "source": [
    "# get contacts\n",
    "con_mm = sqlite3.connect(BASE_PATH + \"decrypt_MicroMsg.db\")\n",
    "cur_mm = con_mm.cursor()\n",
    "contacts = cur_mm.execute(\"SELECT * FROM Contact\").fetchall()\n",
    "columns_mm = cur_mm.execute(\"PRAGMA table_info(Contact)\").fetchall()"
   ]
  },
  {
   "cell_type": "code",
   "execution_count": null,
   "metadata": {},
   "outputs": [],
   "source": [
    "cids = {c[1]: c[0] for c in columns_mm}\n",
    "names = {\n",
    "    c[cids[\"UserName\"]]: c[cids[\"Remark\"]] or c[cids[\"NickName\"]] for c in contacts\n",
    "}\n",
    "\n",
    "\n",
    "def get_name(s):\n",
    "    if s in names:\n",
    "        return names[s]\n",
    "    else:\n",
    "        return s"
   ]
  },
  {
   "cell_type": "code",
   "execution_count": null,
   "metadata": {},
   "outputs": [],
   "source": [
    "def get_wd_cnt(type, l):\n",
    "    if type == 1:\n",
    "        return l\n",
    "    else:\n",
    "        return 0"
   ]
  },
  {
   "cell_type": "code",
   "execution_count": null,
   "metadata": {},
   "outputs": [],
   "source": [
    "import pandas as pd\n",
    "\n",
    "df = pd.DataFrame(msgs, columns=[\"strTalker\", \"IsSender\", \"Type\", \"StrContent\"])\n",
    "df[\"name\"] = df.apply(lambda row: get_name(row[\"strTalker\"]), axis=1)\n",
    "df[\"msg_cnt\"] = 1\n",
    "df[\"wd_cnt\"] = df[\"StrContent\"].str.len()\n",
    "df[\"cn_wd_cnt\"] = df[\"StrContent\"].str.count(pat=\"[\\u4e00-\\u9fff]\")\n",
    "df[\"wd_cnt\"] = df.apply(lambda row: get_wd_cnt(row[\"Type\"], row[\"wd_cnt\"]), axis=1)\n",
    "df[\"cn_wd_cnt\"] = df.apply(\n",
    "    lambda row: get_wd_cnt(row[\"Type\"], row[\"cn_wd_cnt\"]), axis=1\n",
    ")"
   ]
  },
  {
   "cell_type": "code",
   "execution_count": null,
   "metadata": {},
   "outputs": [],
   "source": [
    "# I am sender\n",
    "snd = (\n",
    "    df.where(df[\"IsSender\"] == 1)\n",
    "    .groupby([\"strTalker\", \"name\"])\n",
    "    .sum([\"IsSender\", \"msg_cnt\", \"wd_cnt\", \"cn_wd_cnt\"])\n",
    "    .sort_values(\"msg_cnt\", ascending=False)\n",
    ")\n",
    "snd[\"wd_pmsg\"] = snd[\"wd_cnt\"] / snd[\"msg_cnt\"]\n",
    "snd[\"cn_wd_pmsg\"] = snd[\"cn_wd_cnt\"] / snd[\"msg_cnt\"]\n",
    "\n",
    "snd.head(20).style.hide([\"IsSender\", \"Type\"], axis=1).format(\n",
    "    {\n",
    "        \"msg_cnt\": \"{:.0f}\",\n",
    "        \"wd_cnt\": \"{:.0f}\",\n",
    "        \"cn_wd_cnt\": \"{:.0f}\",\n",
    "        \"wd_pmsg\": \"{:.2f}\",\n",
    "        \"cn_wd_pmsg\": \"{:.2f}\",\n",
    "    },\n",
    ")\n"
   ]
  },
  {
   "cell_type": "code",
   "execution_count": null,
   "metadata": {},
   "outputs": [],
   "source": [
    "# I am receiver\n",
    "rcv = (\n",
    "    df.where(~df[\"strTalker\"].str.contains(\"chatroom\"))\n",
    "    .where(df[\"IsSender\"] == 0)\n",
    "    .groupby([\"strTalker\", \"name\"])\n",
    "    .sum([\"IsSender\", \"msg_cnt\", \"wd_cnt\", \"cn_wd_cnt\"])\n",
    "    .sort_values(\"msg_cnt\", ascending=False)\n",
    ")\n",
    "rcv[\"wd_pmsg\"] = rcv[\"wd_cnt\"] / rcv[\"msg_cnt\"]\n",
    "rcv[\"cn_wd_pmsg\"] = rcv[\"cn_wd_cnt\"] / rcv[\"msg_cnt\"]\n",
    "\n",
    "rcv.head(20).style.hide([\"IsSender\", \"Type\"], axis=1).format(\n",
    "    {\n",
    "        \"msg_cnt\": \"{:.0f}\",\n",
    "        \"wd_cnt\": \"{:.0f}\",\n",
    "        \"cn_wd_cnt\": \"{:.0f}\",\n",
    "        \"wd_pmsg\": \"{:.2f}\",\n",
    "        \"cn_wd_pmsg\": \"{:.2f}\",\n",
    "    },\n",
    ")\n"
   ]
  },
  {
   "cell_type": "code",
   "execution_count": null,
   "metadata": {},
   "outputs": [],
   "source": [
    "# both\n",
    "bth = (\n",
    "    df.where(~df[\"strTalker\"].str.contains(\"chatroom\"))\n",
    "    .groupby([\"strTalker\", \"name\"])\n",
    "    .sum([\"IsSender\", \"msg_cnt\", \"wd_cnt\", \"cn_wd_cnt\"])\n",
    "    .sort_values(\"msg_cnt\", ascending=False)\n",
    ")\n",
    "bth[\"wd_pmsg\"] = bth[\"wd_cnt\"] / bth[\"msg_cnt\"]\n",
    "bth[\"cn_wd_pmsg\"] = bth[\"cn_wd_cnt\"] / bth[\"msg_cnt\"]\n",
    "bth[\"msg_ratio\"] = (bth[\"msg_cnt\"] - bth[\"IsSender\"]) / (bth[\"IsSender\"])\n",
    "\n",
    "\n",
    "def get_cn_wd_ratio(id):\n",
    "    if id in rcv.index and id in snd.index:\n",
    "        return rcv.loc[id, \"cn_wd_cnt\"] / snd.loc[id, \"cn_wd_cnt\"]\n",
    "    else:\n",
    "        return None\n",
    "\n",
    "\n",
    "bth[\"cn_wd_ratio\"] = bth.apply(lambda row: get_cn_wd_ratio(row.name), axis=1)\n",
    "\n",
    "bth.head(20).style.hide([\"IsSender\", \"Type\"], axis=1).format(\n",
    "    {\n",
    "        \"msg_cnt\": \"{:.0f}\",\n",
    "        \"wd_cnt\": \"{:.0f}\",\n",
    "        \"cn_wd_cnt\": \"{:.0f}\",\n",
    "        \"wd_pmsg\": \"{:.2f}\",\n",
    "        \"cn_wd_pmsg\": \"{:.2f}\",\n",
    "        \"msg_ratio\": \"{:.2f}\",\n",
    "        \"cn_wd_ratio\": \"{:.2f}\",\n",
    "    },\n",
    ")"
   ]
  },
  {
   "cell_type": "code",
   "execution_count": null,
   "metadata": {},
   "outputs": [],
   "source": [
    "# high r/s ratio\n",
    "bth[np.logical_and(bth[\"msg_ratio\"] < np.inf, bth[\"msg_cnt\"] > 215)].sort_values(\n",
    "    \"msg_ratio\", ascending=False\n",
    ").head(20).style.hide([\"IsSender\", \"Type\"], axis=1).format(\n",
    "    {\n",
    "        \"msg_cnt\": \"{:.0f}\",\n",
    "        \"wd_cnt\": \"{:.0f}\",\n",
    "        \"cn_wd_cnt\": \"{:.0f}\",\n",
    "        \"wd_pmsg\": \"{:.2f}\",\n",
    "        \"cn_wd_pmsg\": \"{:.2f}\",\n",
    "        \"msg_ratio\": \"{:.2f}\",\n",
    "        \"cn_wd_ratio\": \"{:.2f}\",\n",
    "    },\n",
    ")"
   ]
  },
  {
   "cell_type": "code",
   "execution_count": null,
   "metadata": {},
   "outputs": [],
   "source": [
    "# low r/s ratio\n",
    "bth[np.logical_and(pd.notna(bth[\"msg_ratio\"]), bth[\"msg_cnt\"] > 215)].sort_values(\n",
    "    \"msg_ratio\", ascending=False\n",
    ").tail(20).style.hide([\"IsSender\", \"Type\"], axis=1).format(\n",
    "    {\n",
    "        \"msg_cnt\": \"{:.0f}\",\n",
    "        \"wd_cnt\": \"{:.0f}\",\n",
    "        \"cn_wd_cnt\": \"{:.0f}\",\n",
    "        \"wd_pmsg\": \"{:.2f}\",\n",
    "        \"cn_wd_pmsg\": \"{:.2f}\",\n",
    "        \"msg_ratio\": \"{:.2f}\",\n",
    "        \"cn_wd_ratio\": \"{:.2f}\",\n",
    "    },\n",
    ")"
   ]
  },
  {
   "cell_type": "code",
   "execution_count": null,
   "metadata": {},
   "outputs": [],
   "source": [
    "# high r/s cn_wd_ratio\n",
    "bth[np.logical_and(bth[\"cn_wd_ratio\"] < np.inf, bth[\"msg_cnt\"] > 215)].sort_values(\n",
    "    \"cn_wd_ratio\", ascending=False\n",
    ").head(20).style.hide([\"IsSender\", \"Type\"], axis=1).format(\n",
    "    {\n",
    "        \"msg_cnt\": \"{:.0f}\",\n",
    "        \"wd_cnt\": \"{:.0f}\",\n",
    "        \"cn_wd_cnt\": \"{:.0f}\",\n",
    "        \"wd_pmsg\": \"{:.2f}\",\n",
    "        \"cn_wd_pmsg\": \"{:.2f}\",\n",
    "        \"msg_ratio\": \"{:.2f}\",\n",
    "        \"cn_wd_ratio\": \"{:.2f}\",\n",
    "    },\n",
    ")"
   ]
  },
  {
   "cell_type": "code",
   "execution_count": null,
   "metadata": {},
   "outputs": [],
   "source": [
    "# low r/s cn_wd_ratio\n",
    "bth[np.logical_and(pd.notna(bth[\"cn_wd_ratio\"]), bth[\"msg_cnt\"] > 215)].sort_values(\n",
    "    \"cn_wd_ratio\", ascending=False\n",
    ").tail(20).style.hide([\"IsSender\", \"Type\"], axis=1).format(\n",
    "    {\n",
    "        \"msg_cnt\": \"{:.0f}\",\n",
    "        \"wd_cnt\": \"{:.0f}\",\n",
    "        \"cn_wd_cnt\": \"{:.0f}\",\n",
    "        \"wd_pmsg\": \"{:.2f}\",\n",
    "        \"cn_wd_pmsg\": \"{:.2f}\",\n",
    "        \"msg_ratio\": \"{:.2f}\",\n",
    "        \"cn_wd_ratio\": \"{:.2f}\",\n",
    "    },\n",
    ")"
   ]
  },
  {
   "cell_type": "code",
   "execution_count": null,
   "metadata": {},
   "outputs": [],
   "source": []
  }
 ],
 "metadata": {
  "kernelspec": {
   "display_name": "Python 3 (ipykernel)",
   "language": "python",
   "name": "python3"
  },
  "language_info": {
   "codemirror_mode": {
    "name": "ipython",
    "version": 3
   },
   "file_extension": ".py",
   "mimetype": "text/x-python",
   "name": "python",
   "nbconvert_exporter": "python",
   "pygments_lexer": "ipython3",
   "version": "3.10.8"
  },
  "vscode": {
   "interpreter": {
    "hash": "0171b956aa304f7e92ef0e82cb33f097956ba377847de198b2cd2e93ecd73218"
   }
  }
 },
 "nbformat": 4,
 "nbformat_minor": 2
}
